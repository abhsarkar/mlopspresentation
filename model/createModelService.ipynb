{
 "cells": [
  {
   "cell_type": "code",
   "execution_count": 1,
   "id": "18f67b8b",
   "metadata": {},
   "outputs": [
    {
     "name": "stdout",
     "output_type": "stream",
     "text": [
      "Requirement already satisfied: wandb in /Users/abhisheksarkar/opt/anaconda3/lib/python3.8/site-packages (0.12.7)\n",
      "Requirement already satisfied: yaspin>=1.0.0 in /Users/abhisheksarkar/opt/anaconda3/lib/python3.8/site-packages (from wandb) (2.1.0)\n",
      "Requirement already satisfied: promise<3,>=2.0 in /Users/abhisheksarkar/opt/anaconda3/lib/python3.8/site-packages (from wandb) (2.3)\n",
      "Requirement already satisfied: shortuuid>=0.5.0 in /Users/abhisheksarkar/opt/anaconda3/lib/python3.8/site-packages (from wandb) (1.0.8)\n",
      "Requirement already satisfied: docker-pycreds>=0.4.0 in /Users/abhisheksarkar/opt/anaconda3/lib/python3.8/site-packages (from wandb) (0.4.0)\n",
      "Requirement already satisfied: Click!=8.0.0,>=7.0 in /Users/abhisheksarkar/opt/anaconda3/lib/python3.8/site-packages (from wandb) (7.1.2)\n",
      "Requirement already satisfied: requests<3,>=2.0.0 in /Users/abhisheksarkar/opt/anaconda3/lib/python3.8/site-packages (from wandb) (2.25.1)\n",
      "Requirement already satisfied: six>=1.13.0 in /Users/abhisheksarkar/opt/anaconda3/lib/python3.8/site-packages (from wandb) (1.15.0)\n",
      "Requirement already satisfied: psutil>=5.0.0 in /Users/abhisheksarkar/opt/anaconda3/lib/python3.8/site-packages (from wandb) (5.8.0)\n",
      "Requirement already satisfied: protobuf>=3.12.0 in /Users/abhisheksarkar/opt/anaconda3/lib/python3.8/site-packages (from wandb) (3.19.1)\n",
      "Requirement already satisfied: PyYAML in /Users/abhisheksarkar/opt/anaconda3/lib/python3.8/site-packages (from wandb) (5.4.1)\n",
      "Requirement already satisfied: pathtools in /Users/abhisheksarkar/opt/anaconda3/lib/python3.8/site-packages (from wandb) (0.1.2)\n",
      "Requirement already satisfied: python-dateutil>=2.6.1 in /Users/abhisheksarkar/opt/anaconda3/lib/python3.8/site-packages (from wandb) (2.8.1)\n",
      "Requirement already satisfied: sentry-sdk>=1.0.0 in /Users/abhisheksarkar/opt/anaconda3/lib/python3.8/site-packages (from wandb) (1.5.0)\n",
      "Requirement already satisfied: GitPython>=1.0.0 in /Users/abhisheksarkar/opt/anaconda3/lib/python3.8/site-packages (from wandb) (3.1.24)\n",
      "Requirement already satisfied: configparser>=3.8.1 in /Users/abhisheksarkar/opt/anaconda3/lib/python3.8/site-packages (from wandb) (5.2.0)\n",
      "Requirement already satisfied: subprocess32>=3.5.3 in /Users/abhisheksarkar/opt/anaconda3/lib/python3.8/site-packages (from wandb) (3.5.4)\n",
      "Requirement already satisfied: termcolor<2.0.0,>=1.1.0 in /Users/abhisheksarkar/opt/anaconda3/lib/python3.8/site-packages (from yaspin>=1.0.0->wandb) (1.1.0)\n",
      "Requirement already satisfied: idna<3,>=2.5 in /Users/abhisheksarkar/opt/anaconda3/lib/python3.8/site-packages (from requests<3,>=2.0.0->wandb) (2.10)\n",
      "Requirement already satisfied: urllib3<1.27,>=1.21.1 in /Users/abhisheksarkar/opt/anaconda3/lib/python3.8/site-packages (from requests<3,>=2.0.0->wandb) (1.26.4)\n",
      "Requirement already satisfied: chardet<5,>=3.0.2 in /Users/abhisheksarkar/opt/anaconda3/lib/python3.8/site-packages (from requests<3,>=2.0.0->wandb) (4.0.0)\n",
      "Requirement already satisfied: certifi>=2017.4.17 in /Users/abhisheksarkar/opt/anaconda3/lib/python3.8/site-packages (from requests<3,>=2.0.0->wandb) (2020.12.5)\n",
      "Requirement already satisfied: gitdb<5,>=4.0.1 in /Users/abhisheksarkar/opt/anaconda3/lib/python3.8/site-packages (from GitPython>=1.0.0->wandb) (4.0.9)\n",
      "Requirement already satisfied: typing-extensions>=3.7.4.3; python_version < \"3.10\" in /Users/abhisheksarkar/opt/anaconda3/lib/python3.8/site-packages (from GitPython>=1.0.0->wandb) (3.7.4.3)\n",
      "Requirement already satisfied: smmap<6,>=3.0.1 in /Users/abhisheksarkar/opt/anaconda3/lib/python3.8/site-packages (from gitdb<5,>=4.0.1->GitPython>=1.0.0->wandb) (5.0.0)\n",
      "\u001b[33mWARNING: You are using pip version 20.2; however, version 21.3.1 is available.\n",
      "You should consider upgrading via the '/Users/abhisheksarkar/opt/anaconda3/bin/python -m pip install --upgrade pip' command.\u001b[0m\n",
      "Requirement already satisfied: onnxruntime in /Users/abhisheksarkar/opt/anaconda3/lib/python3.8/site-packages (1.9.0)\n",
      "Requirement already satisfied: flatbuffers in /Users/abhisheksarkar/opt/anaconda3/lib/python3.8/site-packages (from onnxruntime) (2.0)\n",
      "Requirement already satisfied: numpy>=1.16.6 in /Users/abhisheksarkar/opt/anaconda3/lib/python3.8/site-packages (from onnxruntime) (1.20.1)\n",
      "Requirement already satisfied: protobuf in /Users/abhisheksarkar/opt/anaconda3/lib/python3.8/site-packages (from onnxruntime) (3.19.1)\n",
      "\u001b[33mWARNING: You are using pip version 20.2; however, version 21.3.1 is available.\n",
      "You should consider upgrading via the '/Users/abhisheksarkar/opt/anaconda3/bin/python -m pip install --upgrade pip' command.\u001b[0m\n",
      "\u001b[33mWARNING: You are using pip version 20.2; however, version 21.3.1 is available.\n",
      "You should consider upgrading via the '/Users/abhisheksarkar/opt/anaconda3/bin/python -m pip install --upgrade pip' command.\u001b[0m\n"
     ]
    }
   ],
   "source": [
    "get_ipython().system('pip install wandb')\n",
    "get_ipython().system('pip install onnxruntime')\n",
    "get_ipython().system('pip install -q gradio')"
   ]
  },
  {
   "cell_type": "code",
   "execution_count": 4,
   "id": "ecb1eb6c",
   "metadata": {},
   "outputs": [
    {
     "data": {
      "text/html": [
       "Finishing last run (ID:ok4v8xg2) before initializing another..."
      ],
      "text/plain": [
       "<IPython.core.display.HTML object>"
      ]
     },
     "metadata": {},
     "output_type": "display_data"
    },
    {
     "data": {
      "text/html": [
       "<br/>Waiting for W&B process to finish, PID 31602... <strong style=\"color:green\">(success).</strong>"
      ],
      "text/plain": [
       "<IPython.core.display.HTML object>"
      ]
     },
     "metadata": {},
     "output_type": "display_data"
    },
    {
     "data": {
      "application/vnd.jupyter.widget-view+json": {
       "model_id": "",
       "version_major": 2,
       "version_minor": 0
      },
      "text/plain": [
       "VBox(children=(Label(value=' 0.00MB of 0.00MB uploaded (0.00MB deduped)\\r'), FloatProgress(value=1.0, max=1.0)…"
      ]
     },
     "metadata": {},
     "output_type": "display_data"
    },
    {
     "data": {
      "text/html": [
       "<style>\n",
       "    table.wandb td:nth-child(1) { padding: 0 10px; text-align: right }\n",
       "    .wandb-row { display: flex; flex-direction: row; flex-wrap: wrap; width: 100% }\n",
       "    .wandb-col { display: flex; flex-direction: column; flex-basis: 100%; flex: 1; padding: 10px; }\n",
       "    </style>\n",
       "<div class=\"wandb-row\"><div class=\"wandb-col\">\n",
       "</div><div class=\"wandb-col\">\n",
       "</div></div>\n",
       "Synced 5 W&B file(s), 0 media file(s), 0 artifact file(s) and 0 other file(s)\n",
       "<br/>Synced <strong style=\"color:#cdcd00\">treasured-feather-18</strong>: <a href=\"https://wandb.ai/abhsark/auto_loan/runs/ok4v8xg2\" target=\"_blank\">https://wandb.ai/abhsark/auto_loan/runs/ok4v8xg2</a><br/>\n",
       "Find logs at: <code>./wandb/run-20211207_213059-ok4v8xg2/logs</code><br/>\n"
      ],
      "text/plain": [
       "<IPython.core.display.HTML object>"
      ]
     },
     "metadata": {},
     "output_type": "display_data"
    },
    {
     "data": {
      "text/html": [
       "Successfully finished last run (ID:ok4v8xg2). Initializing new run:<br/>"
      ],
      "text/plain": [
       "<IPython.core.display.HTML object>"
      ]
     },
     "metadata": {},
     "output_type": "display_data"
    },
    {
     "data": {
      "text/html": [
       "\n",
       "                    Syncing run <strong><a href=\"https://wandb.ai/abhsark/auto_loan/runs/1hyfygn0\" target=\"_blank\">zany-sound-19</a></strong> to <a href=\"https://wandb.ai/abhsark/auto_loan\" target=\"_blank\">Weights & Biases</a> (<a href=\"https://docs.wandb.com/integrations/jupyter.html\" target=\"_blank\">docs</a>).<br/>\n",
       "\n",
       "                "
      ],
      "text/plain": [
       "<IPython.core.display.HTML object>"
      ]
     },
     "metadata": {},
     "output_type": "display_data"
    },
    {
     "data": {
      "text/plain": [
       "'./artifacts/XGBoost_AutoLoan:v1'"
      ]
     },
     "execution_count": 4,
     "metadata": {},
     "output_type": "execute_result"
    }
   ],
   "source": [
    "import os\n",
    "import wandb\n",
    "import pandas as pd\n",
    "import numpy as np\n",
    "import onnxruntime as rt\n",
    "from gradio import gradio as gr\n",
    "os.environ[\"WANDB_API_KEY\"] = \"526145026d9030cfd5d66bc0f200786831a5b80a\"\n",
    "run = wandb.init(project='auto_loan')\n",
    "ARTIFACT_NAME = 'XGBoost_AutoLoan:v1'\n",
    "artifact = run.use_artifact('abhsark/autoloanprod/' + ARTIFACT_NAME, type='model')\n",
    "artifact_dir = artifact.download()\n",
    "artifact_dir"
   ]
  },
  {
   "cell_type": "code",
   "execution_count": 29,
   "id": "d6c8699e",
   "metadata": {},
   "outputs": [
    {
     "name": "stdout",
     "output_type": "stream",
     "text": [
      "Inputs:  ['Car_Owned', 'Client_Education', 'Registration_Days', 'Client_Gender', 'Child_Count', 'Client_Occupation', 'Workphone_Working', 'House_Own', 'Credit_Amount', 'Client_Income_Type', 'Active_Loan', 'Cleint_City_Rating', 'Type_Organization']\n",
      "Outputs:  ['output_label', 'output_probability']\n"
     ]
    }
   ],
   "source": [
    "import onnx\n",
    "model = onnx.load('./artifacts/autoloan_xgboost.onnx')\n",
    "output =[node.name for node in model.graph.output]\n",
    "\n",
    "input_all = [node.name for node in model.graph.input]\n",
    "input_initializer =  [node.name for node in model.graph.initializer]\n",
    "net_feed_input = list(set(input_all)  - set(input_initializer))\n",
    "\n",
    "print('Inputs: ', net_feed_input)\n",
    "print('Outputs: ', output)"
   ]
  },
  {
   "cell_type": "code",
   "execution_count": 5,
   "id": "3dea86c2",
   "metadata": {},
   "outputs": [
    {
     "data": {
      "text/plain": [
       "['Client_Education',\n",
       " 'Registration_Days',\n",
       " 'Client_Gender',\n",
       " 'Child_Count',\n",
       " 'Client_Occupation',\n",
       " 'Credit_Amount',\n",
       " 'Client_Income_Type',\n",
       " 'Type_Organization']"
      ]
     },
     "execution_count": 5,
     "metadata": {},
     "output_type": "execute_result"
    }
   ],
   "source": [
    "\n",
    "x_columns = ['Client_Gender','Client_Occupation','Car_Owned','Client_Education','Active_Loan','Cleint_City_Rating','Workphone_Working',\n",
    "             'House_Own','Type_Organization','Client_Income_Type','Registration_Days','Child_Count','Credit_Amount']\n",
    "\n",
    "\n",
    "cat_features = ['Car_Owned', 'Bike_Owned', 'Active_Loan', 'House_Own',\n",
    "                'Mobile_Tag', 'Homephone_Tag', 'Workphone_Working', 'Cleint_City_Rating']\n",
    "\n",
    "num_features = list(set(x_columns) - set(cat_features))\n",
    "num_features\n",
    "\n"
   ]
  },
  {
   "cell_type": "code",
   "execution_count": 30,
   "id": "caabc71b",
   "metadata": {},
   "outputs": [],
   "source": [
    "\n",
    "def predict_price(clientGender, clientOccupation, carOwn,\n",
    "                  clientEdu, activeLoan, clientCity, \n",
    "                  workPhone, ownHouse, orgType, \n",
    "                  incomeType, regDays, children,amntNeed):\n",
    "\n",
    "  \n",
    "    inputs_dict = {'Client_Gender' : float(clientGender), \n",
    "              'Client_Occupation': float(clientOccupation), \n",
    "              'Car_Owned': float(carOwn), \n",
    "              'Client_Education': float(clientEdu), \n",
    "              'Active_Loan': float(activeLoan), \n",
    "              'Cleint_City_Rating': float(clientCity), \n",
    "              'Workphone_Working': float(workPhone), \n",
    "              'House_Own': float(ownHouse), \n",
    "              'Type_Organization': float(orgType), \n",
    "              'Client_Income_Type': float(incomeType), \n",
    "              'Registration_Days': float(regDays), \n",
    "              'Child_Count': float(children),\n",
    "              'Credit_Amount': float(amntNeed)}\n",
    "    \n",
    "\n",
    "    df = pd.DataFrame(inputs_dict, index = [0])\n",
    "    print(df)\n",
    "\n",
    "    inputs = {c: df[c].values for c in df.columns}\n",
    "    for c in num_features:\n",
    "        inputs[c] = inputs[c].astype(np.float32)\n",
    "    for k in inputs:\n",
    "        inputs[k] = inputs[k].reshape((inputs[k].shape[0], 1))            \n",
    "  \n",
    "    sess = rt.InferenceSession(artifact_dir + '/autoloan_xgboost.onnx')\n",
    "    pred_onx = sess.run(None, inputs)\n",
    "\n",
    "    predicted_price = float(pred_onx[0][0,0])\n",
    "    return predicted_price\n",
    "    \n",
    "    #return {f'Expected sale price of the car is: INR {np.round(3, 2)} lakhs' }"
   ]
  },
  {
   "cell_type": "code",
   "execution_count": 31,
   "id": "f14f23b1",
   "metadata": {},
   "outputs": [
    {
     "name": "stdout",
     "output_type": "stream",
     "text": [
      "   Client_Gender  Client_Occupation  Car_Owned  Client_Education  Active_Loan  \\\n",
      "0            2.0                3.0        5.0               2.0          2.0   \n",
      "\n",
      "   Cleint_City_Rating  Workphone_Working  House_Own  Type_Organization  \\\n",
      "0                 4.0                5.0        1.0               55.0   \n",
      "\n",
      "   Client_Income_Type  Registration_Days  Child_Count  Credit_Amount  \n",
      "0              1000.0              185.0          4.0        12312.0  \n"
     ]
    },
    {
     "ename": "InvalidArgument",
     "evalue": "[ONNXRuntimeError] : 2 : INVALID_ARGUMENT : Unexpected input data type. Actual: (tensor(double)) , expected: (tensor(float))",
     "output_type": "error",
     "traceback": [
      "\u001b[0;31m---------------------------------------------------------------------------\u001b[0m",
      "\u001b[0;31mInvalidArgument\u001b[0m                           Traceback (most recent call last)",
      "\u001b[0;32m<ipython-input-31-13d74351ad83>\u001b[0m in \u001b[0;36m<module>\u001b[0;34m\u001b[0m\n\u001b[0;32m----> 1\u001b[0;31m predict_price(clientGender=float(2),\n\u001b[0m\u001b[1;32m      2\u001b[0m                           \u001b[0mclientOccupation\u001b[0m\u001b[0;34m=\u001b[0m\u001b[0;36m3\u001b[0m\u001b[0;34m,\u001b[0m\u001b[0;34m\u001b[0m\u001b[0;34m\u001b[0m\u001b[0m\n\u001b[1;32m      3\u001b[0m                           \u001b[0mcarOwn\u001b[0m\u001b[0;34m=\u001b[0m\u001b[0;36m5\u001b[0m\u001b[0;34m,\u001b[0m\u001b[0;34m\u001b[0m\u001b[0;34m\u001b[0m\u001b[0m\n\u001b[1;32m      4\u001b[0m                           \u001b[0mclientEdu\u001b[0m\u001b[0;34m=\u001b[0m\u001b[0mfloat\u001b[0m\u001b[0;34m(\u001b[0m\u001b[0;36m2\u001b[0m\u001b[0;34m)\u001b[0m\u001b[0;34m,\u001b[0m\u001b[0;34m\u001b[0m\u001b[0;34m\u001b[0m\u001b[0m\n\u001b[1;32m      5\u001b[0m                           \u001b[0mactiveLoan\u001b[0m\u001b[0;34m=\u001b[0m\u001b[0;36m2\u001b[0m\u001b[0;34m,\u001b[0m\u001b[0;34m\u001b[0m\u001b[0;34m\u001b[0m\u001b[0m\n",
      "\u001b[0;32m<ipython-input-30-522e788218b0>\u001b[0m in \u001b[0;36mpredict_price\u001b[0;34m(clientGender, clientOccupation, carOwn, clientEdu, activeLoan, clientCity, workPhone, ownHouse, orgType, incomeType, regDays, children, amntNeed)\u001b[0m\n\u001b[1;32m     30\u001b[0m \u001b[0;34m\u001b[0m\u001b[0m\n\u001b[1;32m     31\u001b[0m     \u001b[0msess\u001b[0m \u001b[0;34m=\u001b[0m \u001b[0mrt\u001b[0m\u001b[0;34m.\u001b[0m\u001b[0mInferenceSession\u001b[0m\u001b[0;34m(\u001b[0m\u001b[0martifact_dir\u001b[0m \u001b[0;34m+\u001b[0m \u001b[0;34m'/autoloan_xgboost.onnx'\u001b[0m\u001b[0;34m)\u001b[0m\u001b[0;34m\u001b[0m\u001b[0;34m\u001b[0m\u001b[0m\n\u001b[0;32m---> 32\u001b[0;31m     \u001b[0mpred_onx\u001b[0m \u001b[0;34m=\u001b[0m \u001b[0msess\u001b[0m\u001b[0;34m.\u001b[0m\u001b[0mrun\u001b[0m\u001b[0;34m(\u001b[0m\u001b[0;32mNone\u001b[0m\u001b[0;34m,\u001b[0m \u001b[0minputs\u001b[0m\u001b[0;34m)\u001b[0m\u001b[0;34m\u001b[0m\u001b[0;34m\u001b[0m\u001b[0m\n\u001b[0m\u001b[1;32m     33\u001b[0m \u001b[0;34m\u001b[0m\u001b[0m\n\u001b[1;32m     34\u001b[0m     \u001b[0mpredicted_price\u001b[0m \u001b[0;34m=\u001b[0m \u001b[0mfloat\u001b[0m\u001b[0;34m(\u001b[0m\u001b[0mpred_onx\u001b[0m\u001b[0;34m[\u001b[0m\u001b[0;36m0\u001b[0m\u001b[0;34m]\u001b[0m\u001b[0;34m[\u001b[0m\u001b[0;36m0\u001b[0m\u001b[0;34m,\u001b[0m\u001b[0;36m0\u001b[0m\u001b[0;34m]\u001b[0m\u001b[0;34m)\u001b[0m\u001b[0;34m\u001b[0m\u001b[0;34m\u001b[0m\u001b[0m\n",
      "\u001b[0;32m~/opt/anaconda3/lib/python3.8/site-packages/onnxruntime/capi/onnxruntime_inference_collection.py\u001b[0m in \u001b[0;36mrun\u001b[0;34m(self, output_names, input_feed, run_options)\u001b[0m\n\u001b[1;32m    186\u001b[0m             \u001b[0moutput_names\u001b[0m \u001b[0;34m=\u001b[0m \u001b[0;34m[\u001b[0m\u001b[0moutput\u001b[0m\u001b[0;34m.\u001b[0m\u001b[0mname\u001b[0m \u001b[0;32mfor\u001b[0m \u001b[0moutput\u001b[0m \u001b[0;32min\u001b[0m \u001b[0mself\u001b[0m\u001b[0;34m.\u001b[0m\u001b[0m_outputs_meta\u001b[0m\u001b[0;34m]\u001b[0m\u001b[0;34m\u001b[0m\u001b[0;34m\u001b[0m\u001b[0m\n\u001b[1;32m    187\u001b[0m         \u001b[0;32mtry\u001b[0m\u001b[0;34m:\u001b[0m\u001b[0;34m\u001b[0m\u001b[0;34m\u001b[0m\u001b[0m\n\u001b[0;32m--> 188\u001b[0;31m             \u001b[0;32mreturn\u001b[0m \u001b[0mself\u001b[0m\u001b[0;34m.\u001b[0m\u001b[0m_sess\u001b[0m\u001b[0;34m.\u001b[0m\u001b[0mrun\u001b[0m\u001b[0;34m(\u001b[0m\u001b[0moutput_names\u001b[0m\u001b[0;34m,\u001b[0m \u001b[0minput_feed\u001b[0m\u001b[0;34m,\u001b[0m \u001b[0mrun_options\u001b[0m\u001b[0;34m)\u001b[0m\u001b[0;34m\u001b[0m\u001b[0;34m\u001b[0m\u001b[0m\n\u001b[0m\u001b[1;32m    189\u001b[0m         \u001b[0;32mexcept\u001b[0m \u001b[0mC\u001b[0m\u001b[0;34m.\u001b[0m\u001b[0mEPFail\u001b[0m \u001b[0;32mas\u001b[0m \u001b[0merr\u001b[0m\u001b[0;34m:\u001b[0m\u001b[0;34m\u001b[0m\u001b[0;34m\u001b[0m\u001b[0m\n\u001b[1;32m    190\u001b[0m             \u001b[0;32mif\u001b[0m \u001b[0mself\u001b[0m\u001b[0;34m.\u001b[0m\u001b[0m_enable_fallback\u001b[0m\u001b[0;34m:\u001b[0m\u001b[0;34m\u001b[0m\u001b[0;34m\u001b[0m\u001b[0m\n",
      "\u001b[0;31mInvalidArgument\u001b[0m: [ONNXRuntimeError] : 2 : INVALID_ARGUMENT : Unexpected input data type. Actual: (tensor(double)) , expected: (tensor(float))"
     ]
    }
   ],
   "source": [
    "predict_price(clientGender=float(2),\n",
    "                          clientOccupation=3,\n",
    "                          carOwn=5,\n",
    "                          clientEdu=float(2), \n",
    "                          activeLoan=2, \n",
    "                          clientCity=4, \n",
    "                          workPhone=5, \n",
    "                          ownHouse=1,\n",
    "                          orgType=55, \n",
    "                          incomeType=1000.0, \n",
    "                          regDays=185.0, \n",
    "                          children=4,\n",
    "                          amntNeed=12312)\n",
    "                          \n",
    "                          "
   ]
  },
  {
   "cell_type": "code",
   "execution_count": null,
   "id": "86c2a47c",
   "metadata": {},
   "outputs": [],
   "source": []
  }
 ],
 "metadata": {
  "kernelspec": {
   "display_name": "Python 3",
   "language": "python",
   "name": "python3"
  },
  "language_info": {
   "codemirror_mode": {
    "name": "ipython",
    "version": 3
   },
   "file_extension": ".py",
   "mimetype": "text/x-python",
   "name": "python",
   "nbconvert_exporter": "python",
   "pygments_lexer": "ipython3",
   "version": "3.8.8"
  }
 },
 "nbformat": 4,
 "nbformat_minor": 5
}
